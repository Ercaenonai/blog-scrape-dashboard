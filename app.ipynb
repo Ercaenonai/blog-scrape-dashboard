{
 "cells": [
  {
   "cell_type": "code",
   "execution_count": 3,
   "metadata": {},
   "outputs": [
    {
     "name": "stdout",
     "output_type": "stream",
     "text": [
      " * Serving Flask app \"__main__\" (lazy loading)\n",
      " * Environment: production\n",
      "   WARNING: Do not use the development server in a production environment.\n",
      "   Use a production WSGI server instead.\n",
      " * Debug mode: on\n"
     ]
    },
    {
     "name": "stderr",
     "output_type": "stream",
     "text": [
      " * Restarting with stat\n"
     ]
    },
    {
     "ename": "SystemExit",
     "evalue": "1",
     "output_type": "error",
     "traceback": [
      "An exception has occurred, use %tb to see the full traceback.\n",
      "\u001b[1;31mSystemExit\u001b[0m\u001b[1;31m:\u001b[0m 1\n"
     ]
    }
   ],
   "source": [
    "import os\n",
    "import operator\n",
    "\n",
    "from flask import Flask, render_template, url_for, json\n",
    "\n",
    "app = Flask(__name__)\n",
    "\n",
    "@app.route('/')\n",
    "def index():\n",
    "    SITE_ROOT = os.path.realpath(os.path.dirname(__file__))\n",
    "\n",
    "    stats_url = os.path.join(SITE_ROOT, \"static/data\", \"stats.json\")\n",
    "    stats = json.load(open(stats_url))\n",
    "\n",
    "    categories_url = os.path.join(SITE_ROOT, \"static/data\", \"category.json\")\n",
    "    categories = json.load(open(categories_url))\n",
    "    sorted_categories = sorted(categories.items(), key=operator.itemgetter(1), reverse=True)\n",
    "\n",
    "    authors_url = os.path.join(SITE_ROOT, \"static/data\", \"author.json\")\n",
    "    authors = json.load(open(authors_url))\n",
    "    sorted_authors = sorted(authors.items(), key=operator.itemgetter(1), reverse=True)\n",
    "\n",
    "    weekdays_url = os.path.join(SITE_ROOT, \"static/data\", \"weekday.json\")\n",
    "    weekdays = json.load(open(weekdays_url))\n",
    "\n",
    "    return render_template('index.html', stats=stats, categories=sorted_categories, authors=sorted_authors, weekdays=weekdays)\n",
    "\n",
    "if __name__ == '__main__':\n",
    "    app.run(debug=True)"
   ]
  },
  {
   "cell_type": "code",
   "execution_count": null,
   "metadata": {},
   "outputs": [],
   "source": []
  }
 ],
 "metadata": {
  "kernelspec": {
   "display_name": "Python 3",
   "language": "python",
   "name": "python3"
  },
  "language_info": {
   "codemirror_mode": {
    "name": "ipython",
    "version": 3
   },
   "file_extension": ".py",
   "mimetype": "text/x-python",
   "name": "python",
   "nbconvert_exporter": "python",
   "pygments_lexer": "ipython3",
   "version": "3.7.3"
  }
 },
 "nbformat": 4,
 "nbformat_minor": 2
}
