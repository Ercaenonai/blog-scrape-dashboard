{
 "cells": [
  {
   "cell_type": "code",
   "execution_count": 1,
   "metadata": {},
   "outputs": [],
   "source": [
    "\n",
    "import json\n",
    "from collections import Counter"
   ]
  },
  {
   "cell_type": "code",
   "execution_count": 2,
   "metadata": {},
   "outputs": [],
   "source": [
    "with open('articles.json', 'r') as f:\n",
    "    articles_store = json.loads(f.read())"
   ]
  },
  {
   "cell_type": "code",
   "execution_count": 5,
   "metadata": {},
   "outputs": [],
   "source": [
    "times = []\n",
    "months = []\n",
    "weekdays = []\n",
    "authors = []\n",
    "categories = []\n",
    "\n",
    "for article in articles_store:\n",
    "    \n",
    "    #average reading time\n",
    "    times.append(article['reading_time'])\n",
    "    average_time = sum(times) / float(len(times))\n",
    "    average_time = round(average_time, 2)\n",
    "    \n",
    "    #post by Month\n",
    "    months.append(article['month'])\n",
    "    month_count = Counter(months)\n",
    "    \n",
    "    #post by weekday\n",
    "    weekdays.append(article['weekday'])\n",
    "    weekday_count = Counter(weekdays)\n",
    "    \n",
    "    #count by category\n",
    "    categories += article['categories']\n",
    "    category_count = Counter(categories)\n",
    "    \n",
    "    #count by author\n",
    "    authors.append(article['author'])\n",
    "    author_count = Counter(authors)\n",
    "\n",
    "\n",
    "\n",
    "\n"
   ]
  },
  {
   "cell_type": "code",
   "execution_count": 6,
   "metadata": {},
   "outputs": [
    {
     "name": "stdout",
     "output_type": "stream",
     "text": [
      "Average reading time: 13.47\n",
      "Posts by month Counter({'November': 14, 'August': 13, 'September': 12, 'June': 11, 'October': 11, 'January': 10, 'May': 9, 'March': 8, 'February': 6, 'December': 6, 'July': 5, 'April': 1})\n",
      "Posts by weekday Counter({'Monday': 56, 'Wednesday': 29, 'Thursday': 10, 'Tuesday': 7, 'Friday': 4})\n",
      "Posts by category Counter({'editing': 43, 'post-production': 25, 'career': 18, 'color correction': 8, 'business': 8, 'codecs': 7, 'behind the scenes': 2, 'vfx and mograph': 1, 'workflow': 1})\n",
      "Posts by author Counter({'Ron Dawson': 11, 'Jason Boone': 7, 'David Kong': 7, 'Yuri Baranovsky': 6, 'Lisa McNamara': 5, 'Reuben Evans': 5, 'Sofi Marshall': 5, 'Clara Lehmann': 5, 'Scott Strandberg': 5, 'T Payton': 5, 'Jarle Leirpoll': 4, 'Mark Christiansen': 4, 'Zack Arnold': 3, 'Alexander Huls': 2, 'Seth Goldin': 2, 'Richard Starkey': 2, 'Nick Harauz': 2, 'Jonny Elwyn': 2, 'Christian Leithart': 2, 'Andrew LaSane': 1, 'Noah Kadner': 1, 'Chris Salters': 1, 'Katie Hinsen': 1, 'Ryan Charles': 1, 'Richard Kronenberg': 1, 'Jeff Hinton': 1, 'Josh Short': 1, 'Misha Tenenbaum': 1, 'Kris Ramsey': 1, 'Jon Collins': 1, 'Ben Haslup': 1, 'Gregory Lewis': 1, 'Michael Chaskes': 1, 'Jeanna French': 1, 'Brian Levin': 1, 'Joe Hood': 1, 'Hilda Saffari': 1, 'Jes Zurell': 1, 'Niki Smith': 1, 'Mike Clum': 1, 'Rob Hardy': 1})\n"
     ]
    }
   ],
   "source": [
    "\n",
    "print(\"Average reading time:\", average_time)\n",
    "print(\"Posts by month\", month_count)\n",
    "print(\"Posts by weekday\", weekday_count)\n",
    "print(\"Posts by category\", category_count)\n",
    "print(\"Posts by author\", author_count)"
   ]
  },
  {
   "cell_type": "code",
   "execution_count": 7,
   "metadata": {},
   "outputs": [],
   "source": [
    "stats = {\n",
    "    'reading_time': average_time,\n",
    "    'num_articles': len(articles_store)\n",
    "}\n",
    "\n",
    "with open('stats.json', 'w') as f:\n",
    "    json.dump(stats, f)\n",
    "\n",
    "with open('weekday.json', 'w') as f:\n",
    "    json.dump(weekday_count, f)\n",
    "    \n",
    "with open('month.json', 'w') as f:\n",
    "    json.dump(month_count, f)\n",
    "    \n",
    "with open('category.json', 'w') as f:\n",
    "    json.dump(category_count, f)\n",
    "\n",
    "with open('author.json', 'w') as f:\n",
    "    json.dump(author_count, f)"
   ]
  },
  {
   "cell_type": "code",
   "execution_count": null,
   "metadata": {},
   "outputs": [],
   "source": []
  }
 ],
 "metadata": {
  "kernelspec": {
   "display_name": "Python 3",
   "language": "python",
   "name": "python3"
  },
  "language_info": {
   "codemirror_mode": {
    "name": "ipython",
    "version": 3
   },
   "file_extension": ".py",
   "mimetype": "text/x-python",
   "name": "python",
   "nbconvert_exporter": "python",
   "pygments_lexer": "ipython3",
   "version": "3.7.3"
  }
 },
 "nbformat": 4,
 "nbformat_minor": 2
}
